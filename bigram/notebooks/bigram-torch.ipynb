{
 "cells": [
  {
   "cell_type": "code",
   "execution_count": 1,
   "id": "1a527ff8",
   "metadata": {},
   "outputs": [],
   "source": [
    "import torch"
   ]
  },
  {
   "cell_type": "code",
   "execution_count": 2,
   "id": "72ad3f02",
   "metadata": {},
   "outputs": [
    {
     "data": {
      "text/plain": [
       "tensor([[ 1.4139],\n",
       "        [-0.1277],\n",
       "        [-1.0110],\n",
       "        [ 1.4665],\n",
       "        [ 0.1496],\n",
       "        [-1.0984],\n",
       "        [ 1.1004],\n",
       "        [-0.0340],\n",
       "        [-0.9898],\n",
       "        [ 1.3108]])"
      ]
     },
     "execution_count": 2,
     "metadata": {},
     "output_type": "execute_result"
    }
   ],
   "source": [
    "W = torch.randn((10, 1))\n",
    "W"
   ]
  },
  {
   "cell_type": "code",
   "execution_count": null,
   "id": "43ed2220",
   "metadata": {},
   "outputs": [],
   "source": []
  }
 ],
 "metadata": {
  "kernelspec": {
   "display_name": "lm_bigram",
   "language": "python",
   "name": "python3"
  },
  "language_info": {
   "codemirror_mode": {
    "name": "ipython",
    "version": 3
   },
   "file_extension": ".py",
   "mimetype": "text/x-python",
   "name": "python",
   "nbconvert_exporter": "python",
   "pygments_lexer": "ipython3",
   "version": "3.10.9"
  },
  "vscode": {
   "interpreter": {
    "hash": "bcdb541eee026b553c5777d251e843d26bc60d4a753b37888e8eeecefbd9d6ed"
   }
  }
 },
 "nbformat": 4,
 "nbformat_minor": 5
}
