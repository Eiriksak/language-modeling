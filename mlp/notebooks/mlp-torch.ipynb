{
 "cells": [
  {
   "attachments": {},
   "cell_type": "markdown",
   "metadata": {},
   "source": [
    "# MLP language model using embeddings\n",
    "\n",
    "Based on 1000 boy names, see how a language model manages to generate new random ones based on a MLP network using embeddings for each character. Code inspired by https://github.com/karpathy/nn-zero-to-hero/blob/master/lectures/makemore/makemore_part2_mlp.ipynb and network based on https://www.jmlr.org/papers/volume3/bengio03a/bengio03a.pdf"
   ]
  },
  {
   "cell_type": "code",
   "execution_count": 1,
   "metadata": {},
   "outputs": [],
   "source": [
    "import torch\n",
    "import torch.nn.functional as F\n",
    "import os\n",
    "import random\n",
    "import matplotlib.pyplot as plt \n",
    "%matplotlib inline"
   ]
  },
  {
   "cell_type": "code",
   "execution_count": 2,
   "metadata": {},
   "outputs": [
    {
     "name": "stdout",
     "output_type": "stream",
     "text": [
      "1000 names loaded. Examples: ['Aarav', 'Aaron', 'Abdiel']..\n"
     ]
    }
   ],
   "source": [
    "with open(\"../data/names.txt\", \"r\") as f:\n",
    "    names = f.read().splitlines()\n",
    "    print(f\"{len(names)} names loaded. Examples: {names[:3]}..\")"
   ]
  },
  {
   "attachments": {},
   "cell_type": "markdown",
   "metadata": {},
   "source": [
    "### Create vocab\n",
    "\n",
    "- Store all unique characters in a vocab. \n",
    "    - Also add a unique token indicating that a word starts and ends.\n",
    "- Keep capital letters (So we can see if model is smart enough to start names with capital later)\n",
    "- Create dicts to help us map between chars and index in vocab"
   ]
  },
  {
   "cell_type": "code",
   "execution_count": 3,
   "metadata": {},
   "outputs": [
    {
     "name": "stdout",
     "output_type": "stream",
     "text": [
      "Vocab of size 54\n",
      "Index of character 'x' = 50\n",
      "Character of index 26 = Z\n"
     ]
    }
   ],
   "source": [
    "START_TOKEN, END_TOKEN = \"(\", \")\"\n",
    "vocab = [START_TOKEN] + sorted(list(set(\"\".join(names)))) + [END_TOKEN]\n",
    "print(f\"Vocab of size {len(vocab)}\")\n",
    "# Create \"string to index\" and \"index to string\" dicts for lookup purposes\n",
    "stoi = {s:i for i, s in enumerate(vocab)}\n",
    "itos = {i:s for i, s in enumerate(vocab)}\n",
    "print(f\"Index of character 'x' = {stoi['x']}\")\n",
    "print(f\"Character of index 26 = {itos[26]}\")"
   ]
  },
  {
   "attachments": {},
   "cell_type": "markdown",
   "metadata": {},
   "source": [
    "### Dataset\n",
    "\n",
    "Given a torch tensor containing `context_size` number of previous characters, the network should output the probabilities of each character in the vocab to come after the input."
   ]
  },
  {
   "cell_type": "code",
   "execution_count": 4,
   "metadata": {},
   "outputs": [],
   "source": [
    "def init_dataset(names, context_size=3):\n",
    "    # context_size: Number of characters as context when predicting next word\n",
    "    X, Y = [], [] # Given X, predict Y\n",
    "    for name in names:\n",
    "        # First character in a name have padded START_TOKEN as context\n",
    "        context = [stoi[START_TOKEN]] * context_size \n",
    "        for char in name + END_TOKEN: # E.g. A, d, a, m, )\n",
    "            idx = stoi[char] \n",
    "            X.append(context)\n",
    "            Y.append(idx)\n",
    "            # Context for next char in the name\n",
    "            context = context[1:] + [idx]\n",
    "    X, Y = torch.tensor(X), torch.tensor(Y)\n",
    "    return X, Y"
   ]
  },
  {
   "cell_type": "code",
   "execution_count": 5,
   "metadata": {},
   "outputs": [
    {
     "name": "stdout",
     "output_type": "stream",
     "text": [
      "X: torch.Size([6666, 3]), Y: torch.Size([6666])\n"
     ]
    }
   ],
   "source": [
    "X, Y = init_dataset(names, context_size=3)\n",
    "print(f\"X: {X.shape}, Y: {Y.shape}\")"
   ]
  },
  {
   "cell_type": "code",
   "execution_count": 6,
   "metadata": {},
   "outputs": [
    {
     "name": "stdout",
     "output_type": "stream",
     "text": [
      "Given tensor([31, 35, 38]) predict 53\n",
      "['e', 'i', 'l'] -> )\n",
      "Given tensor([0, 0, 0]) predict 10\n",
      "['(', '(', '('] -> J\n",
      "Given tensor([ 0,  2, 51]) predict 44\n",
      "['(', 'B', 'y'] -> r\n",
      "Given tensor([0, 0, 0]) predict 26\n",
      "['(', '(', '('] -> Z\n",
      "Given tensor([27, 39, 27]) predict 44\n",
      "['a', 'm', 'a'] -> r\n"
     ]
    }
   ],
   "source": [
    "for i in torch.randint(0, X.shape[0], (5,)): # 5 random samples in X\n",
    "    print(f\"Given {X[i]} predict {Y[i]}\")\n",
    "    print(f\"{[itos[j] for j in X[i].tolist()]} -> {itos[Y[i].item()]}\")"
   ]
  },
  {
   "attachments": {},
   "cell_type": "markdown",
   "metadata": {},
   "source": [
    "## Network\n",
    "\n",
    "Based on https://www.jmlr.org/papers/volume3/bengio03a/bengio03a.pdf\n",
    "\n",
    "\n",
    "<img src=\"../assets/network.png\"  alt=\"Neural Network Architecture\" height=\"300\">"
   ]
  },
  {
   "cell_type": "code",
   "execution_count": 7,
   "metadata": {},
   "outputs": [],
   "source": [
    "vocab_size = len(vocab)\n",
    "embedding_dim = 10\n",
    "context_size = 3\n",
    "layer1_size = 100\n",
    "\n",
    "C = torch.randn((vocab_size, embedding_dim)) # Embeddings\n",
    "W1 = torch.randn((context_size * embedding_dim, layer1_size))\n",
    "b1 = torch.randn(layer1_size)\n",
    "W2 = torch.randn((W1.shape[1], vocab_size))\n",
    "b2 = torch.randn(vocab_size)\n",
    "parameters = [C, W1, b1, W2, b2]"
   ]
  },
  {
   "cell_type": "code",
   "execution_count": 8,
   "metadata": {},
   "outputs": [
    {
     "name": "stdout",
     "output_type": "stream",
     "text": [
      "Embedding table torch.Size([54, 10]) meaning each of the 54 tokens in the vocab have embedding vector of shape 10\n",
      "Example: embeddings of vocab item i=6 (F) = tensor([ 1.7801, -1.0107,  1.0148,  0.2952,  0.2075,  0.1045,  0.5826,  1.2838,\n",
      "        -0.6250, -0.5551])\n",
      "\n",
      "Weights in layer 1 with shape torch.Size([30, 100]) + bias of shape torch.Size([100]) meaning 30 numbers go into this layer and 100 goes out. The 30 inputs from embeddings table is because the network is configured to take 3 char as context and each char have 10 embeddings, I.e. 3*10=30\n",
      "\n",
      "Weights in output layer is of shape torch.Size([100, 54]) + bias of shape torch.Size([54]) meaning the 100 outputs from layer 1 goes in and it outputs 54 numbers indicating the probability of each token in the vocab of size 54\n",
      "\n",
      "Total number of parameters: 9094\n"
     ]
    }
   ],
   "source": [
    "print((\n",
    "    f\"Embedding table {C.shape} meaning each of the {C.shape[0]} tokens in the vocab \"\n",
    "    f\"have embedding vector of shape {C.shape[1]}\\n\"\n",
    "    f\"Example: embeddings of vocab item i=6 ({itos[6]}) = {C[6]}\\n\"\n",
    "))\n",
    "print(\n",
    "    f\"Weights in layer 1 with shape {W1.shape} + bias of shape {b1.shape} \"\n",
    "    f\"meaning {W1.shape[0]} numbers go into this layer and {W1.shape[1]} goes out. \"\n",
    "    f\"The {W1.shape[0]} inputs from embeddings table is because the network is configured to \"\n",
    "    f\"take {context_size} char as context and each char have {embedding_dim} embeddings, I.e. \"\n",
    "    f\"{context_size}*{embedding_dim}={W1.shape[0]}\\n\"\n",
    ")\n",
    "\n",
    "print(\n",
    "    f\"Weights in output layer is of shape {W2.shape} + bias of shape {b2.shape} \"\n",
    "    f\"meaning the {W2.shape[0]} outputs from layer 1 goes in and it outputs \"\n",
    "    f\"{W2.shape[1]} numbers indicating the probability of each token in the vocab of size {vocab_size}\\n\"\n",
    ")\n",
    "\n",
    "print(f\"Total number of parameters: {sum(p.nelement() for p in parameters)}\")\n"
   ]
  },
  {
   "attachments": {},
   "cell_type": "markdown",
   "metadata": {},
   "source": [
    "### Training\n",
    "\n",
    "Setup train and validation datasets to identify over/under fitting."
   ]
  },
  {
   "cell_type": "code",
   "execution_count": 9,
   "metadata": {},
   "outputs": [
    {
     "name": "stdout",
     "output_type": "stream",
     "text": [
      "X_train: torch.Size([5345, 3]), X_val: torch.Size([1321, 3])\n"
     ]
    }
   ],
   "source": [
    "random.shuffle(names)\n",
    "train_size = .8 # Train on 80% of the names\n",
    "cutoff = int(0.8*len(names))\n",
    "X_train, y_train = init_dataset(names[:cutoff], context_size=3)\n",
    "X_val, y_val = init_dataset(names[cutoff:], context_size=3)\n",
    "print(f\"X_train: {X_train.shape}, X_val: {X_val.shape}\")"
   ]
  },
  {
   "cell_type": "code",
   "execution_count": 10,
   "metadata": {},
   "outputs": [
    {
     "name": "stdout",
     "output_type": "stream",
     "text": [
      "Minibatch of shape torch.Size([8]):\n",
      "tensor([  47, 1258, 1472, 1753, 3547, 4945, 4154, 3357])\n",
      "\n",
      "The X_train indexed by minibatch have shape torch.Size([8, 3])\n",
      "Using the X_train minibatch to index embeddings gives shape torch.Size([8, 3, 10]) (This needs to be reshaped to torch.Size([8, 30]) (batch_size, num_in_layer_1))\n",
      "\n",
      "The output of layer 1, h=torch.Size([8, 100]) (batch_size, num_out_layer_1)\n",
      "\n",
      "We get logits of shape torch.Size([8, 54]) (batch_size, vocab_size) after passing h through layer 2\n",
      "\n",
      "We compute loss=16.273134231567383 with logits and y_train minibatch\n"
     ]
    }
   ],
   "source": [
    "batch_size = 8\n",
    "\n",
    "batch_idxs = torch.randint(0, X_train.shape[0], (batch_size,))\n",
    "embeddings = C[X_train[batch_idxs]]\n",
    "h = torch.tanh(embeddings.view(-1, W1.shape[0]) @ W1 + b1) \n",
    "logits = h @ W2 + b2 \n",
    "loss = F.cross_entropy(logits, y_train[batch_idxs])\n",
    "\n",
    "print(f\"Minibatch of shape {batch_idxs.shape}:\\n{batch_idxs}\\n\")\n",
    "print(f\"The X_train indexed by minibatch have shape {X_train[batch_idxs].shape}\")\n",
    "print(\n",
    "    f\"Using the X_train minibatch to index embeddings gives shape {embeddings.shape}\"\n",
    "    f\" (This needs to be reshaped to {embeddings.view(-1, 30).shape} (batch_size, num_in_layer_1))\\n\"\n",
    ")\n",
    "print(f\"The output of layer 1, h={h.shape} (batch_size, num_out_layer_1)\\n\")\n",
    "print(f\"We get logits of shape {logits.shape} (batch_size, vocab_size) after passing h through layer 2\\n\")\n",
    "print(f\"We compute loss={loss} with logits and y_train minibatch\")\n"
   ]
  },
  {
   "attachments": {},
   "cell_type": "markdown",
   "metadata": {},
   "source": [
    "#### How is the loss derived?"
   ]
  },
  {
   "cell_type": "code",
   "execution_count": 11,
   "metadata": {},
   "outputs": [
    {
     "name": "stdout",
     "output_type": "stream",
     "text": [
      "Lets use the first sample from the minibatch as example (index 47)\n",
      "The logits outputs probabilities for each char in the vocab:\n",
      "tensor([  5.6044,   2.5534,   3.9820,  -4.5186,  -0.2839,  -1.0272,  -1.7683,\n",
      "          1.4357,  -3.9431,  -3.6824,  -7.7552,  25.0023,  -9.9718, -13.8469,\n",
      "         -1.4932,  -5.3721, -13.6540, -22.9122,  13.9443,  -2.9753,   2.5469,\n",
      "         -4.8560,   9.2427,   8.0669,   3.6398,   7.2906,   6.4026,   4.6832,\n",
      "         -5.7410,   7.3943, -15.3667, -12.9856,  -6.1083,  -4.7998,  -2.6998,\n",
      "          8.2127,  17.6186,  -8.3527,  19.1753,   4.7208,  -1.5858,  16.2543,\n",
      "         -7.6275, -20.3351,  -0.7546,  -2.0605,  10.8597,   6.5540,  -5.3622,\n",
      "          3.6679,  21.2206,   6.5635,   5.4483,  -7.5663])\n",
      "\n",
      "The true char index is 36, which is 17.618572235107422 in the logits\n",
      "We want the logits to be probabilities between 0 and 1 and they should sum up to 1\n",
      "The 36th logit should then be as close to 1 as possible to minimize loss (most probable char)\n",
      "\n",
      "We start by taking the exponential of the logits, which gives us these counts:\n",
      "tensor([2.7161e+02, 1.2850e+01, 5.3623e+01, 1.0904e-02, 7.5284e-01, 3.5800e-01,\n",
      "        1.7062e-01, 4.2027e+00, 1.9388e-02, 2.5164e-02, 4.2853e-04, 7.2168e+10,\n",
      "        4.6701e-05, 9.6911e-07, 2.2465e-01, 4.6445e-03, 1.1753e-06, 1.1204e-10,\n",
      "        1.1374e+06, 5.1034e-02, 1.2768e+01, 7.7819e-03, 1.0329e+04, 3.1872e+03,\n",
      "        3.8086e+01, 1.4664e+03, 6.0344e+02, 1.0812e+02, 3.2114e-03, 1.6268e+03,\n",
      "        2.1200e-07, 2.2932e-06, 2.2244e-03, 8.2314e-03, 6.7218e-02, 3.6875e+03,\n",
      "        4.4838e+07, 2.3575e-04, 2.1268e+08, 1.1225e+02, 2.0479e-01, 1.1459e+07,\n",
      "        4.8689e-04, 1.4743e-09, 4.7019e-01, 1.2739e-01, 5.2034e+04, 7.0207e+02,\n",
      "        4.6905e-03, 3.9169e+01, 1.6443e+09, 7.0878e+02, 2.3237e+02, 5.1759e-04])\n",
      "\n",
      "Next step is to convert these counts to probabilites between 0 and 1.\n",
      "We calculate a probability matrix by dividing each item by the sum of the counts\n",
      "The sum of the counts is 74082312192.0, giving us probabilities:\n",
      "tensor([3.6663e-09, 1.7346e-10, 7.2383e-10, 1.4719e-13, 1.0162e-11, 4.8325e-12,\n",
      "        2.3031e-12, 5.6730e-11, 2.6171e-13, 3.3967e-13, 5.7844e-15, 9.7416e-01,\n",
      "        6.3039e-16, 1.3082e-17, 3.0324e-12, 6.2694e-14, 1.5865e-17, 1.5124e-21,\n",
      "        1.5353e-05, 6.8888e-13, 1.7235e-10, 1.0504e-13, 1.3943e-07, 4.3023e-08,\n",
      "        5.1410e-10, 1.9794e-08, 8.1455e-09, 1.4594e-09, 4.3349e-14, 2.1959e-08,\n",
      "        2.8617e-18, 3.0954e-17, 3.0025e-14, 1.1111e-13, 9.0734e-13, 4.9776e-08,\n",
      "        6.0525e-04, 3.1823e-15, 2.8709e-03, 1.5153e-09, 2.7643e-12, 1.5468e-04,\n",
      "        6.5723e-15, 1.9901e-20, 6.3468e-12, 1.7196e-12, 7.0239e-07, 9.4769e-09,\n",
      "        6.3315e-14, 5.2873e-10, 2.2196e-02, 9.5674e-09, 3.1366e-09, 6.9867e-15])\n",
      "\n",
      "The probability of the true char was in the logits is then 0.0006052491371519864 (want to be close to 1)\n",
      "We compute the loss by taking the minus of the log of the probability -log(0.0006052491371519864)=7.409870624542236\n",
      "If prob=1, log(1)=0.0, if prob=0.001, log(0.001)=-6.907755374908447\n",
      "\n",
      "We can get the same loss by using the torch cross_entropy function: 7.409870624542236\n"
     ]
    }
   ],
   "source": [
    "ex = batch_idxs[0]\n",
    "ex_true = y_train[ex]\n",
    "print(f\"Lets use the first sample from the minibatch as example (index {ex})\")\n",
    "print(f\"The logits outputs probabilities for each char in the vocab:\\n{logits[0]}\\n\")\n",
    "print(f\"The true char index is {ex_true}, which is {logits[0][ex_true]} in the logits\")\n",
    "print(\"We want the logits to be probabilities between 0 and 1 and they should sum up to 1\")\n",
    "print(f\"The {ex_true}th logit should then be as close to 1 as possible to minimize loss (most probable char)\")\n",
    "counts = logits[0].exp()\n",
    "print(f\"\\nWe start by taking the exponential of the logits, which gives us these counts:\\n{counts}\\n\")\n",
    "prob = counts / counts.sum() # counts / counts.sum(1, keepdims=True) when matrix\n",
    "print(\"Next step is to convert these counts to probabilites between 0 and 1.\")\n",
    "print(\"We calculate a probability matrix by dividing each item by the sum of the counts\")\n",
    "print(f\"The sum of the counts is {counts.sum()}, giving us probabilities:\\n{prob}\\n\")\n",
    "print(f\"The probability of the true char was in the logits is then {prob[ex_true]} (want to be close to 1)\")\n",
    "print(\n",
    "    f\"We compute the loss by taking the minus of the log of the probability \"\n",
    "    f\"-log({prob[ex_true]})={-prob[ex_true].log()}\"\n",
    ")\n",
    "print(f\"If prob=1, log(1)={torch.tensor(1).log()}, if prob=0.001, log(0.001)={torch.tensor(0.001).log()}\\n\")\n",
    "loss = F.cross_entropy(logits[0], y_train[batch_idxs][0])\n",
    "print(f\"We can get the same loss by using the torch cross_entropy function: {loss}\")\n"
   ]
  },
  {
   "attachments": {},
   "cell_type": "markdown",
   "metadata": {},
   "source": [
    "### Train network parameters"
   ]
  },
  {
   "cell_type": "code",
   "execution_count": 12,
   "metadata": {},
   "outputs": [
    {
     "data": {
      "text/plain": [
       "[<matplotlib.lines.Line2D at 0x12e93fbb0>]"
      ]
     },
     "execution_count": 12,
     "metadata": {},
     "output_type": "execute_result"
    },
    {
     "data": {
      "image/png": "[encoded data removed]",
      "text/plain": [
       "<Figure size 640x480 with 1 Axes>"
      ]
     },
     "metadata": {},
     "output_type": "display_data"
    }
   ],
   "source": [
    "batch_size = 4\n",
    "num_iter = 100000\n",
    "train_loss = []\n",
    "\n",
    "# We want to calculate gradients for all parameters when training\n",
    "for p in parameters:\n",
    "  p.requires_grad = True\n",
    "\n",
    "for i in range(num_iter):\n",
    "    batch_idxs = torch.randint(0, X_train.shape[0], (batch_size,))\n",
    "\n",
    "    embeddings = C[X_train[batch_idxs]]\n",
    "    h = torch.tanh(embeddings.view(-1, W1.shape[0]) @ W1 + b1) \n",
    "    logits = h @ W2 + b2 \n",
    "    loss = F.cross_entropy(logits, y_train[batch_idxs])\n",
    "\n",
    "    # Backward\n",
    "    for p in parameters: # Reset gradients before backward pass\n",
    "        p.grad = None\n",
    "    loss.backward()\n",
    "\n",
    "    # Update gradients with sharper learning rate in the start\n",
    "    lr = 0.01 if i < 1000 else 0.05\n",
    "    for p in parameters:\n",
    "        p.data += -lr * p.grad\n",
    "\n",
    "    train_loss.append(loss.item())\n",
    "\n",
    "plt.plot([i for i in range(num_iter)], train_loss)"
   ]
  },
  {
   "cell_type": "code",
   "execution_count": 13,
   "metadata": {},
   "outputs": [
    {
     "data": {
      "text/plain": [
       "[1.3442747592926025,\n",
       " 2.162874460220337,\n",
       " 1.150926947593689,\n",
       " 0.40205705165863037,\n",
       " 1.4311473369598389,\n",
       " 1.3240506649017334,\n",
       " 2.4455506801605225,\n",
       " 1.1595568656921387,\n",
       " 2.565973997116089,\n",
       " 1.6574114561080933]"
      ]
     },
     "execution_count": 13,
     "metadata": {},
     "output_type": "execute_result"
    }
   ],
   "source": [
    "train_loss[-10:]"
   ]
  },
  {
   "attachments": {},
   "cell_type": "markdown",
   "metadata": {},
   "source": [
    "#### Did it overfit?\n",
    "\n",
    "Training loss and validation loss should be similar. If train loss is way below valid, it is overfitted."
   ]
  },
  {
   "cell_type": "code",
   "execution_count": 14,
   "metadata": {},
   "outputs": [
    {
     "data": {
      "text/plain": [
       "tensor(1.6387, grad_fn=<NllLossBackward0>)"
      ]
     },
     "execution_count": 14,
     "metadata": {},
     "output_type": "execute_result"
    }
   ],
   "source": [
    "embeddings = C[X_train]\n",
    "h = torch.tanh(embeddings.view(-1, W1.shape[0]) @ W1 + b1) \n",
    "logits = h @ W2 + b2 \n",
    "loss = F.cross_entropy(logits, y_train)\n",
    "loss"
   ]
  },
  {
   "cell_type": "code",
   "execution_count": 15,
   "metadata": {},
   "outputs": [
    {
     "data": {
      "text/plain": [
       "tensor(3.2754, grad_fn=<NllLossBackward0>)"
      ]
     },
     "execution_count": 15,
     "metadata": {},
     "output_type": "execute_result"
    }
   ],
   "source": [
    "embeddings = C[X_val]\n",
    "h = torch.tanh(embeddings.view(-1, W1.shape[0]) @ W1 + b1) \n",
    "logits = h @ W2 + b2 \n",
    "loss = F.cross_entropy(logits, y_val)\n",
    "loss"
   ]
  },
  {
   "attachments": {},
   "cell_type": "markdown",
   "metadata": {},
   "source": [
    "## Generate names\n",
    "\n",
    "- Should be able to start each name with capital letter\n",
    "- The loop keeps generating char by char until the END_TOKEN is sampled. \n",
    "    - Each char is sampled from the probability distribution that the network outputs, given the context tensor as input.\n",
    "- High probability that many of the generated names exist in the dataset it is trained on."
   ]
  },
  {
   "cell_type": "code",
   "execution_count": 16,
   "metadata": {},
   "outputs": [
    {
     "name": "stdout",
     "output_type": "stream",
     "text": [
      "Mr. Koce (Generated)\n",
      "Mr. Theo (In dataset)\n",
      "Mr. Tobert (Generated)\n",
      "Mr. Matliel (Generated)\n",
      "Mr. Mohammaded (Generated)\n",
      "Mr. Moison (Generated)\n",
      "Mr. Noel (In dataset)\n",
      "Mr. Matum (Generated)\n",
      "Mr. Kane (In dataset)\n",
      "Mr. Hasriel (Generated)\n",
      "Mr. Harry (In dataset)\n",
      "Mr. Kairo (In dataset)\n",
      "Mr. Nicos (Generated)\n",
      "Mr. Kall (Generated)\n",
      "Mr. Adeustus (Generated)\n",
      "Mr. Quint (Generated)\n",
      "Mr. Frantii (Generated)\n",
      "Mr. Matticus (Generated)\n",
      "Mr. Ksrius (Generated)\n",
      "Mr. Kudlan (Generated)\n",
      "Mr. Mackson (Generated)\n",
      "Mr. Garryne (Generated)\n",
      "Mr. Karson (In dataset)\n",
      "Mr. Chris (In dataset)\n",
      "Mr. Maxiogo (Generated)\n",
      "Mr. Feres (Generated)\n",
      "Mr. Mohammanuel (Generated)\n",
      "Mr. Ari (In dataset)\n",
      "Mr. Karence (Generated)\n",
      "Mr. Kaleso (Generated)\n"
     ]
    }
   ],
   "source": [
    "num = 30\n",
    "for _ in range(num):\n",
    "    name = []\n",
    "    context = [stoi[START_TOKEN]] * context_size \n",
    "    while True:\n",
    "        embeddings = C[torch.tensor([context])] # (1, context_size, embedding_dim)\n",
    "        h = torch.tanh(embeddings.view(1, -1) @ W1 + b1)\n",
    "        logits = h @ W2 + b2\n",
    "        probs = F.softmax(logits, dim=1)\n",
    "        idx = torch.multinomial(probs, num_samples=1).item()\n",
    "        context = context[1:] + [idx]\n",
    "        if idx == stoi[END_TOKEN]: break\n",
    "        name.append(itos[idx])\n",
    "    name = ''.join(name)\n",
    "    exist = \"(In dataset)\" if name in names else \"(Generated)\"\n",
    "    print(f\"Mr. {name} {exist}\")"
   ]
  }
 ],
 "metadata": {
  "kernelspec": {
   "display_name": "lm_bigram",
   "language": "python",
   "name": "python3"
  },
  "language_info": {
   "codemirror_mode": {
    "name": "ipython",
    "version": 3
   },
   "file_extension": ".py",
   "mimetype": "text/x-python",
   "name": "python",
   "nbconvert_exporter": "python",
   "pygments_lexer": "ipython3",
   "version": "3.10.9"
  },
  "orig_nbformat": 4,
  "vscode": {
   "interpreter": {
    "hash": "bcdb541eee026b553c5777d251e843d26bc60d4a753b37888e8eeecefbd9d6ed"
   }
  }
 },
 "nbformat": 4,
 "nbformat_minor": 2
}
